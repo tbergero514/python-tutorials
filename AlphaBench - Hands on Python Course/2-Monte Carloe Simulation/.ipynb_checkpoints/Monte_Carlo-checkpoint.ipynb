{
 "cells": [
  {
   "cell_type": "markdown",
   "metadata": {},
   "source": [
    "# Introduction to Monto Carlo Simulation of a S&P 500-like investment"
   ]
  },
  {
   "cell_type": "markdown",
   "metadata": {},
   "source": [
    "### Starting with 10,000 and investing an additional 10,000 annually, what is the probability that you will have at least 1,000,000 after 30 years of investing in the S&P 500 etf?"
   ]
  },
  {
   "cell_type": "markdown",
   "metadata": {},
   "source": [
    "#### Youtube Tutorial: https://www.youtube.com/watch?v=A0J0VAHzIxc&feature=emb_logo"
   ]
  },
  {
   "cell_type": "code",
   "execution_count": 1,
   "metadata": {},
   "outputs": [
    {
     "data": {
      "text/plain": [
       "'en_CA.UTF-8'"
      ]
     },
     "execution_count": 1,
     "metadata": {},
     "output_type": "execute_result"
    }
   ],
   "source": [
    "# 1. import needed libraries, set plots to display in notebook\n",
    "\n",
    "import numpy as np\n",
    "from pandas import Series, DataFrame\n",
    "%matplotlib inline\n",
    "import matplotlib.pyplot as plots\n",
    "# allows currency formatting\n",
    "import locale\n",
    "locale.setlocale(locale.LC_ALL, 'en_CA.UTF-8')\n"
   ]
  },
  {
   "cell_type": "code",
   "execution_count": 2,
   "metadata": {},
   "outputs": [
    {
     "name": "stdout",
     "output_type": "stream",
     "text": [
      "$20,700.00\n",
      "$32,149.00\n",
      "$44,399.43\n",
      "$57,507.39\n",
      "$71,532.91\n",
      "$86,540.21\n",
      "$102,598.03\n",
      "$119,779.89\n",
      "$138,164.48\n",
      "$157,835.99\n",
      "$178,884.51\n",
      "$201,406.43\n",
      "$225,504.88\n",
      "$251,290.22\n",
      "$278,880.54\n",
      "$308,402.17\n",
      "$339,990.33\n",
      "$373,789.65\n",
      "$409,954.92\n",
      "$448,651.77\n",
      "$490,057.39\n",
      "$534,361.41\n",
      "$581,766.71\n",
      "$632,490.38\n",
      "$686,764.70\n",
      "$744,838.23\n",
      "$806,976.91\n",
      "$873,465.29\n",
      "$944,607.86\n",
      "$1,020,730.41\n"
     ]
    }
   ],
   "source": [
    "# 2. A traditional savings calculator approach\n",
    "\n",
    "pv = 10000\n",
    "time_horizon = 30\n",
    "i =.07\n",
    "additions = 10000\n",
    "\n",
    "for year in range(time_horizon):\n",
    "    ending = pv * (1+i) + additions\n",
    "    print(locale.currency(ending, grouping=True))\n",
    "    pv = ending\n",
    "\n",
    "\n"
   ]
  },
  {
   "cell_type": "code",
   "execution_count": 7,
   "metadata": {},
   "outputs": [
    {
     "name": "stdout",
     "output_type": "stream",
     "text": [
      "\tReturn     \t\tEnding Value\n",
      "\t-0.2048               \t$17,952.35\n",
      "\t0.1713               \t$31,027.71\n",
      "\t0.025               \t$41,803.57\n",
      "\t0.3934               \t$68,247.53\n",
      "\t0.1311               \t$87,193.78\n",
      "\t0.059               \t$102,338.96\n",
      "\t0.0492               \t$117,370.59\n",
      "\t0.1776               \t$148,211.52\n",
      "\t0.1447               \t$179,660.96\n",
      "\t0.3233               \t$247,744.05\n",
      "\t0.0131               \t$260,984.80\n",
      "\t0.0031               \t$271,804.67\n",
      "\t0.101               \t$309,265.20\n",
      "\t0.059               \t$337,521.01\n",
      "\t0.13               \t$391,406.15\n",
      "\t-0.1634               \t$337,440.21\n",
      "\t0.1988               \t$414,529.00\n",
      "\t0.1478               \t$485,804.51\n",
      "\t-0.0644               \t$464,501.76\n",
      "\t0.3089               \t$617,969.40\n",
      "\t0.1163               \t$699,851.96\n",
      "\t0.0967               \t$777,561.94\n",
      "\t0.1271               \t$886,361.09\n",
      "\t0.2286               \t$1,099,006.92\n",
      "\t-0.1747               \t$917,010.86\n",
      "\t0.1719               \t$1,084,648.77\n",
      "\t0.1578               \t$1,265,833.32\n",
      "\t0.1391               \t$1,451,968.19\n",
      "\t-0.0102               \t$1,447,163.05\n",
      "\t-0.0651               \t$1,362,992.89\n"
     ]
    }
   ],
   "source": [
    "# 3. Generating one possible future value based on market history; I will use 9% expected return with 18% volatility\n",
    "\n",
    "pv = 10000\n",
    "expected_return = .09\n",
    "volatility = .18\n",
    "time_horizon = 30\n",
    "annual_addition = 10000\n",
    "\n",
    "print(\"\\tReturn\", \"\\t\\tEnding Value\".rjust(18))\n",
    "for year in range(time_horizon):\n",
    "    market_return = np.random.normal(expected_return, volatility)\n",
    "    fv = pv * (1 + market_return) + annual_addition\n",
    "    print(\"\\t{}\".ljust(10).format(round(market_return,4)), \"\\t{}\".rjust(10).format(locale.currency(fv, grouping=True)))\n",
    "    pv = fv\n",
    "\n",
    "\n",
    "\n",
    "\n",
    "\n",
    "\n",
    "\n",
    "\n",
    "    \n",
    "    \n",
    "    \n",
    "    \n",
    "    \n",
    "    \n",
    "    \n",
    "    \n",
    "    "
   ]
  },
  {
   "cell_type": "code",
   "execution_count": 8,
   "metadata": {},
   "outputs": [],
   "source": [
    "# 4. Simulate portfolio ending market values \n",
    "\n",
    "sim = DataFrame()\n",
    "iterations = 5000\n",
    "\n",
    "\n",
    "for x in range(iterations):\n",
    "    expected_return = .09\n",
    "    volatility = .18\n",
    "    time_horizon = 30\n",
    "    pv = 10000\n",
    "    annual_investment = 10000\n",
    "    stream = []\n",
    "    for i in range(time_horizon):\n",
    "        end = round(pv * (1 + np.random.normal(expected_return,volatility)) + annual_investment,2)\n",
    "        \n",
    "        stream.append(end)\n",
    "\n",
    "        pv = end\n",
    "\n",
    "    \n",
    "    sim[x] = stream\n"
   ]
  },
  {
   "cell_type": "code",
   "execution_count": null,
   "metadata": {},
   "outputs": [],
   "source": []
  },
  {
   "cell_type": "code",
   "execution_count": 11,
   "metadata": {},
   "outputs": [
    {
     "data": {
      "text/html": [
       "<div>\n",
       "<table border=\"1\" class=\"dataframe\">\n",
       "  <thead>\n",
       "    <tr style=\"text-align: right;\">\n",
       "      <th></th>\n",
       "      <th>0</th>\n",
       "      <th>1</th>\n",
       "      <th>2</th>\n",
       "      <th>3</th>\n",
       "      <th>4</th>\n",
       "    </tr>\n",
       "  </thead>\n",
       "  <tbody>\n",
       "    <tr>\n",
       "      <th>0</th>\n",
       "      <td>20608.84</td>\n",
       "      <td>25270.36</td>\n",
       "      <td>22524.66</td>\n",
       "      <td>19888.64</td>\n",
       "      <td>24937.49</td>\n",
       "    </tr>\n",
       "    <tr>\n",
       "      <th>1</th>\n",
       "      <td>33740.72</td>\n",
       "      <td>35372.69</td>\n",
       "      <td>32873.72</td>\n",
       "      <td>36562.31</td>\n",
       "      <td>41552.59</td>\n",
       "    </tr>\n",
       "    <tr>\n",
       "      <th>2</th>\n",
       "      <td>45225.73</td>\n",
       "      <td>44210.06</td>\n",
       "      <td>45421.19</td>\n",
       "      <td>46184.55</td>\n",
       "      <td>51021.79</td>\n",
       "    </tr>\n",
       "    <tr>\n",
       "      <th>3</th>\n",
       "      <td>58379.60</td>\n",
       "      <td>61796.20</td>\n",
       "      <td>80086.09</td>\n",
       "      <td>55155.90</td>\n",
       "      <td>86519.77</td>\n",
       "    </tr>\n",
       "    <tr>\n",
       "      <th>4</th>\n",
       "      <td>85781.28</td>\n",
       "      <td>70098.26</td>\n",
       "      <td>68538.91</td>\n",
       "      <td>63000.86</td>\n",
       "      <td>108460.91</td>\n",
       "    </tr>\n",
       "    <tr>\n",
       "      <th>5</th>\n",
       "      <td>87940.43</td>\n",
       "      <td>82285.84</td>\n",
       "      <td>60522.85</td>\n",
       "      <td>71575.43</td>\n",
       "      <td>110073.63</td>\n",
       "    </tr>\n",
       "    <tr>\n",
       "      <th>6</th>\n",
       "      <td>82747.60</td>\n",
       "      <td>102489.51</td>\n",
       "      <td>96294.97</td>\n",
       "      <td>89848.70</td>\n",
       "      <td>133817.78</td>\n",
       "    </tr>\n",
       "    <tr>\n",
       "      <th>7</th>\n",
       "      <td>82756.72</td>\n",
       "      <td>123217.12</td>\n",
       "      <td>109410.25</td>\n",
       "      <td>135515.92</td>\n",
       "      <td>182665.42</td>\n",
       "    </tr>\n",
       "    <tr>\n",
       "      <th>8</th>\n",
       "      <td>144639.26</td>\n",
       "      <td>136355.22</td>\n",
       "      <td>142602.06</td>\n",
       "      <td>127311.36</td>\n",
       "      <td>214785.48</td>\n",
       "    </tr>\n",
       "    <tr>\n",
       "      <th>9</th>\n",
       "      <td>184432.55</td>\n",
       "      <td>169326.84</td>\n",
       "      <td>148948.71</td>\n",
       "      <td>136936.95</td>\n",
       "      <td>286522.75</td>\n",
       "    </tr>\n",
       "    <tr>\n",
       "      <th>10</th>\n",
       "      <td>209482.38</td>\n",
       "      <td>174629.00</td>\n",
       "      <td>183539.10</td>\n",
       "      <td>146726.65</td>\n",
       "      <td>354484.07</td>\n",
       "    </tr>\n",
       "    <tr>\n",
       "      <th>11</th>\n",
       "      <td>249300.45</td>\n",
       "      <td>176012.46</td>\n",
       "      <td>230442.52</td>\n",
       "      <td>139957.36</td>\n",
       "      <td>370285.78</td>\n",
       "    </tr>\n",
       "    <tr>\n",
       "      <th>12</th>\n",
       "      <td>312886.35</td>\n",
       "      <td>173168.94</td>\n",
       "      <td>284435.34</td>\n",
       "      <td>162090.12</td>\n",
       "      <td>530016.35</td>\n",
       "    </tr>\n",
       "    <tr>\n",
       "      <th>13</th>\n",
       "      <td>268715.01</td>\n",
       "      <td>167641.51</td>\n",
       "      <td>327392.49</td>\n",
       "      <td>180188.15</td>\n",
       "      <td>684339.57</td>\n",
       "    </tr>\n",
       "    <tr>\n",
       "      <th>14</th>\n",
       "      <td>226320.18</td>\n",
       "      <td>158084.61</td>\n",
       "      <td>338060.78</td>\n",
       "      <td>171399.13</td>\n",
       "      <td>719974.57</td>\n",
       "    </tr>\n",
       "    <tr>\n",
       "      <th>15</th>\n",
       "      <td>269760.74</td>\n",
       "      <td>165789.84</td>\n",
       "      <td>435316.26</td>\n",
       "      <td>196710.71</td>\n",
       "      <td>791131.04</td>\n",
       "    </tr>\n",
       "    <tr>\n",
       "      <th>16</th>\n",
       "      <td>378558.20</td>\n",
       "      <td>187355.21</td>\n",
       "      <td>609670.59</td>\n",
       "      <td>259472.33</td>\n",
       "      <td>670071.12</td>\n",
       "    </tr>\n",
       "    <tr>\n",
       "      <th>17</th>\n",
       "      <td>513870.43</td>\n",
       "      <td>193416.70</td>\n",
       "      <td>631204.26</td>\n",
       "      <td>265128.09</td>\n",
       "      <td>301802.36</td>\n",
       "    </tr>\n",
       "    <tr>\n",
       "      <th>18</th>\n",
       "      <td>415726.47</td>\n",
       "      <td>243682.94</td>\n",
       "      <td>640962.19</td>\n",
       "      <td>324803.89</td>\n",
       "      <td>246695.60</td>\n",
       "    </tr>\n",
       "    <tr>\n",
       "      <th>19</th>\n",
       "      <td>456953.67</td>\n",
       "      <td>326003.49</td>\n",
       "      <td>848527.30</td>\n",
       "      <td>461958.23</td>\n",
       "      <td>280869.29</td>\n",
       "    </tr>\n",
       "    <tr>\n",
       "      <th>20</th>\n",
       "      <td>447794.01</td>\n",
       "      <td>361800.47</td>\n",
       "      <td>810154.49</td>\n",
       "      <td>419162.23</td>\n",
       "      <td>285238.23</td>\n",
       "    </tr>\n",
       "    <tr>\n",
       "      <th>21</th>\n",
       "      <td>483183.11</td>\n",
       "      <td>438958.81</td>\n",
       "      <td>905952.35</td>\n",
       "      <td>527859.73</td>\n",
       "      <td>313787.79</td>\n",
       "    </tr>\n",
       "    <tr>\n",
       "      <th>22</th>\n",
       "      <td>502885.58</td>\n",
       "      <td>401016.84</td>\n",
       "      <td>784807.42</td>\n",
       "      <td>665936.48</td>\n",
       "      <td>300198.54</td>\n",
       "    </tr>\n",
       "    <tr>\n",
       "      <th>23</th>\n",
       "      <td>457012.27</td>\n",
       "      <td>441272.03</td>\n",
       "      <td>1015493.55</td>\n",
       "      <td>759131.46</td>\n",
       "      <td>319280.84</td>\n",
       "    </tr>\n",
       "    <tr>\n",
       "      <th>24</th>\n",
       "      <td>518696.43</td>\n",
       "      <td>542515.32</td>\n",
       "      <td>778863.92</td>\n",
       "      <td>821615.70</td>\n",
       "      <td>381654.14</td>\n",
       "    </tr>\n",
       "    <tr>\n",
       "      <th>25</th>\n",
       "      <td>525934.55</td>\n",
       "      <td>662417.47</td>\n",
       "      <td>795153.07</td>\n",
       "      <td>797219.66</td>\n",
       "      <td>391283.95</td>\n",
       "    </tr>\n",
       "    <tr>\n",
       "      <th>26</th>\n",
       "      <td>648207.61</td>\n",
       "      <td>694768.54</td>\n",
       "      <td>995491.81</td>\n",
       "      <td>632315.42</td>\n",
       "      <td>326099.13</td>\n",
       "    </tr>\n",
       "    <tr>\n",
       "      <th>27</th>\n",
       "      <td>592420.63</td>\n",
       "      <td>717087.52</td>\n",
       "      <td>897694.34</td>\n",
       "      <td>721284.01</td>\n",
       "      <td>367282.34</td>\n",
       "    </tr>\n",
       "    <tr>\n",
       "      <th>28</th>\n",
       "      <td>699679.32</td>\n",
       "      <td>699155.21</td>\n",
       "      <td>839630.49</td>\n",
       "      <td>626382.54</td>\n",
       "      <td>538488.72</td>\n",
       "    </tr>\n",
       "    <tr>\n",
       "      <th>29</th>\n",
       "      <td>840002.22</td>\n",
       "      <td>971588.23</td>\n",
       "      <td>1032396.34</td>\n",
       "      <td>890854.62</td>\n",
       "      <td>564475.89</td>\n",
       "    </tr>\n",
       "  </tbody>\n",
       "</table>\n",
       "</div>"
      ],
      "text/plain": [
       "            0          1           2          3          4\n",
       "0    20608.84   25270.36    22524.66   19888.64   24937.49\n",
       "1    33740.72   35372.69    32873.72   36562.31   41552.59\n",
       "2    45225.73   44210.06    45421.19   46184.55   51021.79\n",
       "3    58379.60   61796.20    80086.09   55155.90   86519.77\n",
       "4    85781.28   70098.26    68538.91   63000.86  108460.91\n",
       "5    87940.43   82285.84    60522.85   71575.43  110073.63\n",
       "6    82747.60  102489.51    96294.97   89848.70  133817.78\n",
       "7    82756.72  123217.12   109410.25  135515.92  182665.42\n",
       "8   144639.26  136355.22   142602.06  127311.36  214785.48\n",
       "9   184432.55  169326.84   148948.71  136936.95  286522.75\n",
       "10  209482.38  174629.00   183539.10  146726.65  354484.07\n",
       "11  249300.45  176012.46   230442.52  139957.36  370285.78\n",
       "12  312886.35  173168.94   284435.34  162090.12  530016.35\n",
       "13  268715.01  167641.51   327392.49  180188.15  684339.57\n",
       "14  226320.18  158084.61   338060.78  171399.13  719974.57\n",
       "15  269760.74  165789.84   435316.26  196710.71  791131.04\n",
       "16  378558.20  187355.21   609670.59  259472.33  670071.12\n",
       "17  513870.43  193416.70   631204.26  265128.09  301802.36\n",
       "18  415726.47  243682.94   640962.19  324803.89  246695.60\n",
       "19  456953.67  326003.49   848527.30  461958.23  280869.29\n",
       "20  447794.01  361800.47   810154.49  419162.23  285238.23\n",
       "21  483183.11  438958.81   905952.35  527859.73  313787.79\n",
       "22  502885.58  401016.84   784807.42  665936.48  300198.54\n",
       "23  457012.27  441272.03  1015493.55  759131.46  319280.84\n",
       "24  518696.43  542515.32   778863.92  821615.70  381654.14\n",
       "25  525934.55  662417.47   795153.07  797219.66  391283.95\n",
       "26  648207.61  694768.54   995491.81  632315.42  326099.13\n",
       "27  592420.63  717087.52   897694.34  721284.01  367282.34\n",
       "28  699679.32  699155.21   839630.49  626382.54  538488.72\n",
       "29  840002.22  971588.23  1032396.34  890854.62  564475.89"
      ]
     },
     "execution_count": 11,
     "metadata": {},
     "output_type": "execute_result"
    }
   ],
   "source": [
    "# 5. Sample first five streams of annual ending values\n",
    "first_five = list(range(5))\n",
    "sim[first_five]"
   ]
  },
  {
   "cell_type": "code",
   "execution_count": 12,
   "metadata": {},
   "outputs": [
    {
     "data": {
      "text/plain": [
       "[<matplotlib.lines.Line2D at 0x112161048>,\n",
       " <matplotlib.lines.Line2D at 0x112161208>,\n",
       " <matplotlib.lines.Line2D at 0x1121613c8>,\n",
       " <matplotlib.lines.Line2D at 0x1121615c0>,\n",
       " <matplotlib.lines.Line2D at 0x1121617b8>]"
      ]
     },
     "execution_count": 12,
     "metadata": {},
     "output_type": "execute_result"
    },
    {
     "data": {
      "image/png": "[encoded data removed]",
      "text/plain": [
       "<matplotlib.figure.Figure at 0x111fa6518>"
      ]
     },
     "metadata": {},
     "output_type": "display_data"
    }
   ],
   "source": [
    "# 6. Plot first five simulated portfolios\n",
    "plots.plot(sim[first_five])"
   ]
  },
  {
   "cell_type": "code",
   "execution_count": null,
   "metadata": {},
   "outputs": [],
   "source": []
  },
  {
   "cell_type": "code",
   "execution_count": 13,
   "metadata": {},
   "outputs": [
    {
     "name": "stdout",
     "output_type": "stream",
     "text": [
      "Count: 5000\n",
      "Mean:  $1,511,783.96\n",
      "SD:  $1,207,664.05\n",
      "Max:  $15,360,616.84\n",
      "Min:  $113,779.44\n"
     ]
    }
   ],
   "source": [
    "# 7. Generate summary statistics with numpy functions\n",
    "\n",
    "print(\"Count:\", len(sim.loc[29]))\n",
    "print(\"Mean: \", locale.currency(np.mean(sim.loc[29]),grouping=True))\n",
    "print(\"SD: \",locale.currency(np.std(sim.loc[29]),grouping=True))\n",
    "print(\"Max: \",locale.currency(np.max(sim.loc[29]), grouping=True))\n",
    "print(\"Min: \", locale.currency(np.min(sim.loc[29]), grouping=True))"
   ]
  },
  {
   "cell_type": "code",
   "execution_count": 14,
   "metadata": {},
   "outputs": [
    {
     "data": {
      "text/plain": [
       "count    5.000000e+03\n",
       "mean     1.511784e+06\n",
       "std      1.207785e+06\n",
       "min      1.137794e+05\n",
       "25%      7.462566e+05\n",
       "50%      1.184005e+06\n",
       "75%      1.867706e+06\n",
       "max      1.536062e+07\n",
       "Name: 29, dtype: float64"
      ]
     },
     "execution_count": 14,
     "metadata": {},
     "output_type": "execute_result"
    }
   ],
   "source": [
    "# 8. Generating more comprehensive summary statistics with pandas describe function\n",
    "ending_values = sim.loc[29]\n",
    "ending_values.describe()\n"
   ]
  },
  {
   "cell_type": "code",
   "execution_count": 17,
   "metadata": {},
   "outputs": [
    {
     "data": {
      "text/plain": [
       "(array([  63.,  229.,  342.,  526.,  495.,  442.,  392.,  403.,  299.,\n",
       "         261.,  203.,  182.,  150.,  134.,  107.,   97.,   90.,   73.,\n",
       "          64.,   44.,   65.,   53.,   31.,   25.,   24.,   22.,   20.,\n",
       "          21.,   15.,   16.,    4.,    7.,   14.,    7.,    7.,    1.,\n",
       "           8.,    3.,    5.,    3.,    3.,    4.,    4.,    3.,    2.,\n",
       "           4.,    2.,    1.,    2.,    2.,    2.,    4.,    1.,    1.,\n",
       "           2.,    1.,    1.,    1.,    2.,    1.,    0.,    0.,    1.,\n",
       "           1.,    2.,    0.,    0.,    0.,    1.,    1.,    0.,    0.,\n",
       "           1.,    0.,    0.,    0.,    0.,    0.,    0.,    0.,    0.,\n",
       "           0.,    1.,    0.,    0.,    0.,    0.,    1.,    0.,    0.,\n",
       "           0.,    0.,    0.,    0.,    0.,    0.,    0.,    0.,    0.,    1.]),\n",
       " array([   113779.44 ,    266247.814,    418716.188,    571184.562,\n",
       "           723652.936,    876121.31 ,   1028589.684,   1181058.058,\n",
       "          1333526.432,   1485994.806,   1638463.18 ,   1790931.554,\n",
       "          1943399.928,   2095868.302,   2248336.676,   2400805.05 ,\n",
       "          2553273.424,   2705741.798,   2858210.172,   3010678.546,\n",
       "          3163146.92 ,   3315615.294,   3468083.668,   3620552.042,\n",
       "          3773020.416,   3925488.79 ,   4077957.164,   4230425.538,\n",
       "          4382893.912,   4535362.286,   4687830.66 ,   4840299.034,\n",
       "          4992767.408,   5145235.782,   5297704.156,   5450172.53 ,\n",
       "          5602640.904,   5755109.278,   5907577.652,   6060046.026,\n",
       "          6212514.4  ,   6364982.774,   6517451.148,   6669919.522,\n",
       "          6822387.896,   6974856.27 ,   7127324.644,   7279793.018,\n",
       "          7432261.392,   7584729.766,   7737198.14 ,   7889666.514,\n",
       "          8042134.888,   8194603.262,   8347071.636,   8499540.01 ,\n",
       "          8652008.384,   8804476.758,   8956945.132,   9109413.506,\n",
       "          9261881.88 ,   9414350.254,   9566818.628,   9719287.002,\n",
       "          9871755.376,  10024223.75 ,  10176692.124,  10329160.498,\n",
       "         10481628.872,  10634097.246,  10786565.62 ,  10939033.994,\n",
       "         11091502.368,  11243970.742,  11396439.116,  11548907.49 ,\n",
       "         11701375.864,  11853844.238,  12006312.612,  12158780.986,\n",
       "         12311249.36 ,  12463717.734,  12616186.108,  12768654.482,\n",
       "         12921122.856,  13073591.23 ,  13226059.604,  13378527.978,\n",
       "         13530996.352,  13683464.726,  13835933.1  ,  13988401.474,\n",
       "         14140869.848,  14293338.222,  14445806.596,  14598274.97 ,\n",
       "         14750743.344,  14903211.718,  15055680.092,  15208148.466,\n",
       "         15360616.84 ]),\n",
       " <a list of 100 Patch objects>)"
      ]
     },
     "execution_count": 17,
     "metadata": {},
     "output_type": "execute_result"
    },
    {
     "data": {
      "image/png": "[encoded data removed]",
      "text/plain": [
       "<matplotlib.figure.Figure at 0x1121d3fd0>"
      ]
     },
     "metadata": {},
     "output_type": "display_data"
    }
   ],
   "source": [
    "# 9. Get a visualization of the distribution of ending values\n",
    "\n",
    "plots.hist(ending_values, bins=100)"
   ]
  },
  {
   "cell_type": "code",
   "execution_count": 26,
   "metadata": {},
   "outputs": [
    {
     "data": {
      "text/plain": [
       "0.405"
      ]
     },
     "execution_count": 26,
     "metadata": {},
     "output_type": "execute_result"
    }
   ],
   "source": [
    "# 10. Calculate probability of seeing a specific ending_value or less, \n",
    "# for example get close to the 75%ile, or $1,000,000\n",
    "\n",
    "len(ending_values[ending_values<1000000]) / len(ending_values)"
   ]
  },
  {
   "cell_type": "code",
   "execution_count": 22,
   "metadata": {},
   "outputs": [
    {
     "data": {
      "text/plain": [
       "0.1776"
      ]
     },
     "execution_count": 22,
     "metadata": {},
     "output_type": "execute_result"
    }
   ],
   "source": [
    "# 11. You can't really get a point estimate, but you can get a range ending values\n",
    "\n",
    "len(ending_values[(ending_values> 800000) & (ending_values< 1100000)]) /len(ending_values)"
   ]
  },
  {
   "cell_type": "code",
   "execution_count": 23,
   "metadata": {},
   "outputs": [
    {
     "name": "stdout",
     "output_type": "stream",
     "text": [
      "       5%-ile:  $400,786.79\n",
      "      10%-ile:  $517,436.68\n",
      "      15%-ile:  $606,444.07\n",
      "      25%-ile:  $746,256.62\n",
      "      75%-ile:  $1,867,705.61\n",
      "      85%-ile:  $2,443,746.84\n",
      "      90%-ile:  $2,879,132.81\n",
      "      95%-ile:  $3,657,034.78\n"
     ]
    }
   ],
   "source": [
    "# 12. You can get a more comprehensive table of percentiles easily using numpy's percentile function\n",
    "\n",
    "p_tiles = np.percentile(ending_values,[5,10,15,25,75,85,90, 95])\n",
    "for p in range(len(p_tiles)):\n",
    "    l = [5,10,15,25,75,85,90,95]\n",
    "    print( \"{}%-ile: \".format(l[p]).rjust(15),\"{}\".format(locale.currency(p_tiles[p], grouping=True)))\n"
   ]
  },
  {
   "cell_type": "code",
   "execution_count": null,
   "metadata": {
    "collapsed": true
   },
   "outputs": [],
   "source": []
  }
 ],
 "metadata": {
  "kernelspec": {
   "display_name": "Python 3",
   "language": "python",
   "name": "python3"
  },
  "language_info": {
   "codemirror_mode": {
    "name": "ipython",
    "version": 3
   },
   "file_extension": ".py",
   "mimetype": "text/x-python",
   "name": "python",
   "nbconvert_exporter": "python",
   "pygments_lexer": "ipython3",
   "version": "3.6.5"
  }
 },
 "nbformat": 4,
 "nbformat_minor": 2
}
