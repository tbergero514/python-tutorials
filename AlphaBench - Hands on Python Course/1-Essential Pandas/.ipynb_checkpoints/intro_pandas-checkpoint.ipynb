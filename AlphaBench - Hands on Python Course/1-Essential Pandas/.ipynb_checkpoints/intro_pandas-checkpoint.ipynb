{
 "cells": [
  {
   "cell_type": "markdown",
   "metadata": {},
   "source": [
    "# Essential Introduction to pandas "
   ]
  },
  {
   "cell_type": "markdown",
   "metadata": {},
   "source": [
    "## 1. First we will set up our environment in Jupyter\n",
    "### If you don't have pandas_datareader, at the command line enter\n",
    "### conda install -c pandas-datareader or pip install if you don't have Anaconda\n",
    "\n",
    "### Youtube tutorial for this notebook: https://alphabench.com/data/essential-pandas-introduction.html"
   ]
  },
  {
   "cell_type": "code",
   "execution_count": 71,
   "metadata": {
    "collapsed": true
   },
   "outputs": [],
   "source": [
    "import numpy as np\n",
    "import pandas as pd\n",
    "%matplotlib inline\n",
    "import matplotlib.pyplot as plt\n",
    "import pandas_datareader as pdr\n"
   ]
  },
  {
   "cell_type": "markdown",
   "metadata": {},
   "source": [
    "## 2. Get data (5 years, GOOG AMZN)"
   ]
  },
  {
   "cell_type": "code",
   "execution_count": 73,
   "metadata": {},
   "outputs": [],
   "source": [
    "amzn = pdr.get_data_yahoo('AMZN', '20121101')\n",
    "goog = pdr.get_data_yahoo('GOOG', '2012-11-01')\n"
   ]
  },
  {
   "cell_type": "markdown",
   "metadata": {},
   "source": [
    "## 3. View head, tail, info"
   ]
  },
  {
   "cell_type": "code",
   "execution_count": 76,
   "metadata": {},
   "outputs": [
    {
     "data": {
      "text/html": [
       "<div>\n",
       "<style scoped>\n",
       "    .dataframe tbody tr th:only-of-type {\n",
       "        vertical-align: middle;\n",
       "    }\n",
       "\n",
       "    .dataframe tbody tr th {\n",
       "        vertical-align: top;\n",
       "    }\n",
       "\n",
       "    .dataframe thead th {\n",
       "        text-align: right;\n",
       "    }\n",
       "</style>\n",
       "<table border=\"1\" class=\"dataframe\">\n",
       "  <thead>\n",
       "    <tr style=\"text-align: right;\">\n",
       "      <th></th>\n",
       "      <th>Open</th>\n",
       "      <th>High</th>\n",
       "      <th>Low</th>\n",
       "      <th>Close</th>\n",
       "      <th>Adj Close</th>\n",
       "      <th>Volume</th>\n",
       "    </tr>\n",
       "    <tr>\n",
       "      <th>Date</th>\n",
       "      <th></th>\n",
       "      <th></th>\n",
       "      <th></th>\n",
       "      <th></th>\n",
       "      <th></th>\n",
       "      <th></th>\n",
       "    </tr>\n",
       "  </thead>\n",
       "  <tbody>\n",
       "    <tr>\n",
       "      <th>2012-11-01</th>\n",
       "      <td>234.229996</td>\n",
       "      <td>234.550003</td>\n",
       "      <td>231.339996</td>\n",
       "      <td>232.139999</td>\n",
       "      <td>232.139999</td>\n",
       "      <td>3905100</td>\n",
       "    </tr>\n",
       "    <tr>\n",
       "      <th>2012-11-02</th>\n",
       "      <td>234.009995</td>\n",
       "      <td>237.399994</td>\n",
       "      <td>232.110001</td>\n",
       "      <td>232.419998</td>\n",
       "      <td>232.419998</td>\n",
       "      <td>3374700</td>\n",
       "    </tr>\n",
       "    <tr>\n",
       "      <th>2012-11-05</th>\n",
       "      <td>232.039993</td>\n",
       "      <td>234.830002</td>\n",
       "      <td>230.110001</td>\n",
       "      <td>234.330002</td>\n",
       "      <td>234.330002</td>\n",
       "      <td>1846100</td>\n",
       "    </tr>\n",
       "    <tr>\n",
       "      <th>2012-11-06</th>\n",
       "      <td>235.410004</td>\n",
       "      <td>237.750000</td>\n",
       "      <td>234.449997</td>\n",
       "      <td>237.559998</td>\n",
       "      <td>237.559998</td>\n",
       "      <td>2661300</td>\n",
       "    </tr>\n",
       "    <tr>\n",
       "      <th>2012-11-07</th>\n",
       "      <td>235.649994</td>\n",
       "      <td>235.660004</td>\n",
       "      <td>229.419998</td>\n",
       "      <td>232.059998</td>\n",
       "      <td>232.059998</td>\n",
       "      <td>3624200</td>\n",
       "    </tr>\n",
       "  </tbody>\n",
       "</table>\n",
       "</div>"
      ],
      "text/plain": [
       "                  Open        High         Low       Close   Adj Close  \\\n",
       "Date                                                                     \n",
       "2012-11-01  234.229996  234.550003  231.339996  232.139999  232.139999   \n",
       "2012-11-02  234.009995  237.399994  232.110001  232.419998  232.419998   \n",
       "2012-11-05  232.039993  234.830002  230.110001  234.330002  234.330002   \n",
       "2012-11-06  235.410004  237.750000  234.449997  237.559998  237.559998   \n",
       "2012-11-07  235.649994  235.660004  229.419998  232.059998  232.059998   \n",
       "\n",
       "             Volume  \n",
       "Date                 \n",
       "2012-11-01  3905100  \n",
       "2012-11-02  3374700  \n",
       "2012-11-05  1846100  \n",
       "2012-11-06  2661300  \n",
       "2012-11-07  3624200  "
      ]
     },
     "execution_count": 76,
     "metadata": {},
     "output_type": "execute_result"
    }
   ],
   "source": [
    "amzn.head()"
   ]
  },
  {
   "cell_type": "code",
   "execution_count": 77,
   "metadata": {},
   "outputs": [
    {
     "data": {
      "text/html": [
       "<div>\n",
       "<style scoped>\n",
       "    .dataframe tbody tr th:only-of-type {\n",
       "        vertical-align: middle;\n",
       "    }\n",
       "\n",
       "    .dataframe tbody tr th {\n",
       "        vertical-align: top;\n",
       "    }\n",
       "\n",
       "    .dataframe thead th {\n",
       "        text-align: right;\n",
       "    }\n",
       "</style>\n",
       "<table border=\"1\" class=\"dataframe\">\n",
       "  <thead>\n",
       "    <tr style=\"text-align: right;\">\n",
       "      <th></th>\n",
       "      <th>Open</th>\n",
       "      <th>High</th>\n",
       "      <th>Low</th>\n",
       "      <th>Close</th>\n",
       "      <th>Adj Close</th>\n",
       "      <th>Volume</th>\n",
       "    </tr>\n",
       "    <tr>\n",
       "      <th>Date</th>\n",
       "      <th></th>\n",
       "      <th></th>\n",
       "      <th></th>\n",
       "      <th></th>\n",
       "      <th></th>\n",
       "      <th></th>\n",
       "    </tr>\n",
       "  </thead>\n",
       "  <tbody>\n",
       "    <tr>\n",
       "      <th>2017-11-13</th>\n",
       "      <td>1123.000000</td>\n",
       "      <td>1139.900024</td>\n",
       "      <td>1122.339966</td>\n",
       "      <td>1129.170044</td>\n",
       "      <td>1129.170044</td>\n",
       "      <td>2918400</td>\n",
       "    </tr>\n",
       "    <tr>\n",
       "      <th>2017-11-14</th>\n",
       "      <td>1130.109985</td>\n",
       "      <td>1138.000000</td>\n",
       "      <td>1123.890015</td>\n",
       "      <td>1136.839966</td>\n",
       "      <td>1136.839966</td>\n",
       "      <td>3138400</td>\n",
       "    </tr>\n",
       "    <tr>\n",
       "      <th>2017-11-15</th>\n",
       "      <td>1127.010010</td>\n",
       "      <td>1131.750000</td>\n",
       "      <td>1121.630005</td>\n",
       "      <td>1126.689941</td>\n",
       "      <td>1126.689941</td>\n",
       "      <td>3928700</td>\n",
       "    </tr>\n",
       "    <tr>\n",
       "      <th>2017-11-16</th>\n",
       "      <td>1130.160034</td>\n",
       "      <td>1138.160034</td>\n",
       "      <td>1130.050049</td>\n",
       "      <td>1137.290039</td>\n",
       "      <td>1137.290039</td>\n",
       "      <td>2213300</td>\n",
       "    </tr>\n",
       "    <tr>\n",
       "      <th>2017-11-17</th>\n",
       "      <td>1138.280029</td>\n",
       "      <td>1138.800049</td>\n",
       "      <td>1125.810059</td>\n",
       "      <td>1129.880005</td>\n",
       "      <td>1129.880005</td>\n",
       "      <td>2345100</td>\n",
       "    </tr>\n",
       "  </tbody>\n",
       "</table>\n",
       "</div>"
      ],
      "text/plain": [
       "                   Open         High          Low        Close    Adj Close  \\\n",
       "Date                                                                          \n",
       "2017-11-13  1123.000000  1139.900024  1122.339966  1129.170044  1129.170044   \n",
       "2017-11-14  1130.109985  1138.000000  1123.890015  1136.839966  1136.839966   \n",
       "2017-11-15  1127.010010  1131.750000  1121.630005  1126.689941  1126.689941   \n",
       "2017-11-16  1130.160034  1138.160034  1130.050049  1137.290039  1137.290039   \n",
       "2017-11-17  1138.280029  1138.800049  1125.810059  1129.880005  1129.880005   \n",
       "\n",
       "             Volume  \n",
       "Date                 \n",
       "2017-11-13  2918400  \n",
       "2017-11-14  3138400  \n",
       "2017-11-15  3928700  \n",
       "2017-11-16  2213300  \n",
       "2017-11-17  2345100  "
      ]
     },
     "execution_count": 77,
     "metadata": {},
     "output_type": "execute_result"
    }
   ],
   "source": [
    "amzn.tail()"
   ]
  },
  {
   "cell_type": "code",
   "execution_count": 79,
   "metadata": {},
   "outputs": [
    {
     "name": "stdout",
     "output_type": "stream",
     "text": [
      "<class 'pandas.core.frame.DataFrame'>\n",
      "DatetimeIndex: 1272 entries, 2012-11-01 to 2017-11-17\n",
      "Data columns (total 6 columns):\n",
      "Open         1272 non-null float64\n",
      "High         1272 non-null float64\n",
      "Low          1272 non-null float64\n",
      "Close        1272 non-null float64\n",
      "Adj Close    1272 non-null float64\n",
      "Volume       1272 non-null int64\n",
      "dtypes: float64(5), int64(1)\n",
      "memory usage: 69.6 KB\n",
      "<class 'pandas.core.frame.DataFrame'>\n",
      "DatetimeIndex: 1272 entries, 2012-11-01 to 2017-11-17\n",
      "Data columns (total 6 columns):\n",
      "Open         1272 non-null float64\n",
      "High         1272 non-null float64\n",
      "Low          1272 non-null float64\n",
      "Close        1272 non-null float64\n",
      "Adj Close    1272 non-null float64\n",
      "Volume       1272 non-null int64\n",
      "dtypes: float64(5), int64(1)\n",
      "memory usage: 69.6 KB\n",
      "None None\n"
     ]
    }
   ],
   "source": [
    "print(amzn.info(), goog.info())"
   ]
  },
  {
   "cell_type": "markdown",
   "metadata": {},
   "source": [
    "## 4. Filtering  using .loc,  .iloc, index"
   ]
  },
  {
   "cell_type": "code",
   "execution_count": 83,
   "metadata": {},
   "outputs": [
    {
     "data": {
      "text/plain": [
       "234.229996"
      ]
     },
     "execution_count": 83,
     "metadata": {},
     "output_type": "execute_result"
    }
   ],
   "source": [
    "amzn.loc['20121101','Open']"
   ]
  },
  {
   "cell_type": "code",
   "execution_count": 85,
   "metadata": {},
   "outputs": [
    {
     "data": {
      "text/plain": [
       "234.229996"
      ]
     },
     "execution_count": 85,
     "metadata": {},
     "output_type": "execute_result"
    }
   ],
   "source": [
    "amzn.iloc[0,0]"
   ]
  },
  {
   "cell_type": "code",
   "execution_count": 86,
   "metadata": {},
   "outputs": [
    {
     "data": {
      "text/html": [
       "<div>\n",
       "<style scoped>\n",
       "    .dataframe tbody tr th:only-of-type {\n",
       "        vertical-align: middle;\n",
       "    }\n",
       "\n",
       "    .dataframe tbody tr th {\n",
       "        vertical-align: top;\n",
       "    }\n",
       "\n",
       "    .dataframe thead th {\n",
       "        text-align: right;\n",
       "    }\n",
       "</style>\n",
       "<table border=\"1\" class=\"dataframe\">\n",
       "  <thead>\n",
       "    <tr style=\"text-align: right;\">\n",
       "      <th></th>\n",
       "      <th>Open</th>\n",
       "      <th>High</th>\n",
       "      <th>Low</th>\n",
       "      <th>Close</th>\n",
       "      <th>Adj Close</th>\n",
       "      <th>Volume</th>\n",
       "    </tr>\n",
       "    <tr>\n",
       "      <th>Date</th>\n",
       "      <th></th>\n",
       "      <th></th>\n",
       "      <th></th>\n",
       "      <th></th>\n",
       "      <th></th>\n",
       "      <th></th>\n",
       "    </tr>\n",
       "  </thead>\n",
       "  <tbody>\n",
       "    <tr>\n",
       "      <th>2017-11-02</th>\n",
       "      <td>1097.810059</td>\n",
       "      <td>1101.939941</td>\n",
       "      <td>1086.869995</td>\n",
       "      <td>1094.219971</td>\n",
       "      <td>1094.219971</td>\n",
       "      <td>3684900</td>\n",
       "    </tr>\n",
       "    <tr>\n",
       "      <th>2017-11-03</th>\n",
       "      <td>1091.150024</td>\n",
       "      <td>1112.680054</td>\n",
       "      <td>1088.520020</td>\n",
       "      <td>1111.599976</td>\n",
       "      <td>1111.599976</td>\n",
       "      <td>3751500</td>\n",
       "    </tr>\n",
       "    <tr>\n",
       "      <th>2017-11-06</th>\n",
       "      <td>1109.150024</td>\n",
       "      <td>1125.410034</td>\n",
       "      <td>1108.770020</td>\n",
       "      <td>1120.660034</td>\n",
       "      <td>1120.660034</td>\n",
       "      <td>3381100</td>\n",
       "    </tr>\n",
       "    <tr>\n",
       "      <th>2017-11-07</th>\n",
       "      <td>1124.739990</td>\n",
       "      <td>1130.599976</td>\n",
       "      <td>1117.500000</td>\n",
       "      <td>1123.170044</td>\n",
       "      <td>1123.170044</td>\n",
       "      <td>2689000</td>\n",
       "    </tr>\n",
       "    <tr>\n",
       "      <th>2017-11-08</th>\n",
       "      <td>1122.819946</td>\n",
       "      <td>1135.540039</td>\n",
       "      <td>1119.109985</td>\n",
       "      <td>1132.880005</td>\n",
       "      <td>1132.880005</td>\n",
       "      <td>2581500</td>\n",
       "    </tr>\n",
       "    <tr>\n",
       "      <th>2017-11-09</th>\n",
       "      <td>1125.959961</td>\n",
       "      <td>1129.619995</td>\n",
       "      <td>1115.770020</td>\n",
       "      <td>1129.130005</td>\n",
       "      <td>1129.130005</td>\n",
       "      <td>3732700</td>\n",
       "    </tr>\n",
       "    <tr>\n",
       "      <th>2017-11-10</th>\n",
       "      <td>1126.099976</td>\n",
       "      <td>1131.750000</td>\n",
       "      <td>1124.060059</td>\n",
       "      <td>1125.349976</td>\n",
       "      <td>1125.349976</td>\n",
       "      <td>2179900</td>\n",
       "    </tr>\n",
       "    <tr>\n",
       "      <th>2017-11-13</th>\n",
       "      <td>1123.000000</td>\n",
       "      <td>1139.900024</td>\n",
       "      <td>1122.339966</td>\n",
       "      <td>1129.170044</td>\n",
       "      <td>1129.170044</td>\n",
       "      <td>2918400</td>\n",
       "    </tr>\n",
       "    <tr>\n",
       "      <th>2017-11-14</th>\n",
       "      <td>1130.109985</td>\n",
       "      <td>1138.000000</td>\n",
       "      <td>1123.890015</td>\n",
       "      <td>1136.839966</td>\n",
       "      <td>1136.839966</td>\n",
       "      <td>3138400</td>\n",
       "    </tr>\n",
       "    <tr>\n",
       "      <th>2017-11-15</th>\n",
       "      <td>1127.010010</td>\n",
       "      <td>1131.750000</td>\n",
       "      <td>1121.630005</td>\n",
       "      <td>1126.689941</td>\n",
       "      <td>1126.689941</td>\n",
       "      <td>3928700</td>\n",
       "    </tr>\n",
       "    <tr>\n",
       "      <th>2017-11-16</th>\n",
       "      <td>1130.160034</td>\n",
       "      <td>1138.160034</td>\n",
       "      <td>1130.050049</td>\n",
       "      <td>1137.290039</td>\n",
       "      <td>1137.290039</td>\n",
       "      <td>2213300</td>\n",
       "    </tr>\n",
       "    <tr>\n",
       "      <th>2017-11-17</th>\n",
       "      <td>1138.280029</td>\n",
       "      <td>1138.800049</td>\n",
       "      <td>1125.810059</td>\n",
       "      <td>1129.880005</td>\n",
       "      <td>1129.880005</td>\n",
       "      <td>2345100</td>\n",
       "    </tr>\n",
       "  </tbody>\n",
       "</table>\n",
       "</div>"
      ],
      "text/plain": [
       "                   Open         High          Low        Close    Adj Close  \\\n",
       "Date                                                                          \n",
       "2017-11-02  1097.810059  1101.939941  1086.869995  1094.219971  1094.219971   \n",
       "2017-11-03  1091.150024  1112.680054  1088.520020  1111.599976  1111.599976   \n",
       "2017-11-06  1109.150024  1125.410034  1108.770020  1120.660034  1120.660034   \n",
       "2017-11-07  1124.739990  1130.599976  1117.500000  1123.170044  1123.170044   \n",
       "2017-11-08  1122.819946  1135.540039  1119.109985  1132.880005  1132.880005   \n",
       "2017-11-09  1125.959961  1129.619995  1115.770020  1129.130005  1129.130005   \n",
       "2017-11-10  1126.099976  1131.750000  1124.060059  1125.349976  1125.349976   \n",
       "2017-11-13  1123.000000  1139.900024  1122.339966  1129.170044  1129.170044   \n",
       "2017-11-14  1130.109985  1138.000000  1123.890015  1136.839966  1136.839966   \n",
       "2017-11-15  1127.010010  1131.750000  1121.630005  1126.689941  1126.689941   \n",
       "2017-11-16  1130.160034  1138.160034  1130.050049  1137.290039  1137.290039   \n",
       "2017-11-17  1138.280029  1138.800049  1125.810059  1129.880005  1129.880005   \n",
       "\n",
       "             Volume  \n",
       "Date                 \n",
       "2017-11-02  3684900  \n",
       "2017-11-03  3751500  \n",
       "2017-11-06  3381100  \n",
       "2017-11-07  2689000  \n",
       "2017-11-08  2581500  \n",
       "2017-11-09  3732700  \n",
       "2017-11-10  2179900  \n",
       "2017-11-13  2918400  \n",
       "2017-11-14  3138400  \n",
       "2017-11-15  3928700  \n",
       "2017-11-16  2213300  \n",
       "2017-11-17  2345100  "
      ]
     },
     "execution_count": 86,
     "metadata": {},
     "output_type": "execute_result"
    }
   ],
   "source": [
    "amzn[amzn.index > '2017-11-01']"
   ]
  },
  {
   "cell_type": "code",
   "execution_count": null,
   "metadata": {},
   "outputs": [],
   "source": []
  },
  {
   "cell_type": "markdown",
   "metadata": {},
   "source": [
    "## 5. Filtering with criteria"
   ]
  },
  {
   "cell_type": "code",
   "execution_count": 87,
   "metadata": {},
   "outputs": [
    {
     "name": "stdout",
     "output_type": "stream",
     "text": [
      "Mean: 3684915.959  Std: 2130898.713\n"
     ]
    }
   ],
   "source": [
    "print('Mean: %.3f  Std: %.3f'% (amzn['Volume'].mean(), amzn['Volume'].std()) )"
   ]
  },
  {
   "cell_type": "code",
   "execution_count": 88,
   "metadata": {
    "collapsed": true
   },
   "outputs": [],
   "source": [
    "high = amzn['Volume'].mean() + 2* amzn['Volume'].std()"
   ]
  },
  {
   "cell_type": "code",
   "execution_count": 91,
   "metadata": {},
   "outputs": [
    {
     "data": {
      "text/plain": [
       "0.03459119496855346"
      ]
     },
     "execution_count": 91,
     "metadata": {},
     "output_type": "execute_result"
    }
   ],
   "source": [
    "len(amzn[amzn.Volume >high]) / len(amzn)"
   ]
  },
  {
   "cell_type": "code",
   "execution_count": null,
   "metadata": {
    "collapsed": true
   },
   "outputs": [],
   "source": []
  },
  {
   "cell_type": "markdown",
   "metadata": {},
   "source": [
    "## 6. Adding Columns"
   ]
  },
  {
   "cell_type": "code",
   "execution_count": 92,
   "metadata": {},
   "outputs": [],
   "source": [
    "amzn['pct_chng'] = amzn.Close.pct_change()"
   ]
  },
  {
   "cell_type": "code",
   "execution_count": 93,
   "metadata": {},
   "outputs": [
    {
     "data": {
      "text/html": [
       "<div>\n",
       "<style scoped>\n",
       "    .dataframe tbody tr th:only-of-type {\n",
       "        vertical-align: middle;\n",
       "    }\n",
       "\n",
       "    .dataframe tbody tr th {\n",
       "        vertical-align: top;\n",
       "    }\n",
       "\n",
       "    .dataframe thead th {\n",
       "        text-align: right;\n",
       "    }\n",
       "</style>\n",
       "<table border=\"1\" class=\"dataframe\">\n",
       "  <thead>\n",
       "    <tr style=\"text-align: right;\">\n",
       "      <th></th>\n",
       "      <th>Open</th>\n",
       "      <th>High</th>\n",
       "      <th>Low</th>\n",
       "      <th>Close</th>\n",
       "      <th>Adj Close</th>\n",
       "      <th>Volume</th>\n",
       "      <th>pct_chng</th>\n",
       "    </tr>\n",
       "    <tr>\n",
       "      <th>Date</th>\n",
       "      <th></th>\n",
       "      <th></th>\n",
       "      <th></th>\n",
       "      <th></th>\n",
       "      <th></th>\n",
       "      <th></th>\n",
       "      <th></th>\n",
       "    </tr>\n",
       "  </thead>\n",
       "  <tbody>\n",
       "    <tr>\n",
       "      <th>2012-11-01</th>\n",
       "      <td>234.229996</td>\n",
       "      <td>234.550003</td>\n",
       "      <td>231.339996</td>\n",
       "      <td>232.139999</td>\n",
       "      <td>232.139999</td>\n",
       "      <td>3905100</td>\n",
       "      <td>NaN</td>\n",
       "    </tr>\n",
       "    <tr>\n",
       "      <th>2012-11-02</th>\n",
       "      <td>234.009995</td>\n",
       "      <td>237.399994</td>\n",
       "      <td>232.110001</td>\n",
       "      <td>232.419998</td>\n",
       "      <td>232.419998</td>\n",
       "      <td>3374700</td>\n",
       "      <td>0.001206</td>\n",
       "    </tr>\n",
       "    <tr>\n",
       "      <th>2012-11-05</th>\n",
       "      <td>232.039993</td>\n",
       "      <td>234.830002</td>\n",
       "      <td>230.110001</td>\n",
       "      <td>234.330002</td>\n",
       "      <td>234.330002</td>\n",
       "      <td>1846100</td>\n",
       "      <td>0.008218</td>\n",
       "    </tr>\n",
       "    <tr>\n",
       "      <th>2012-11-06</th>\n",
       "      <td>235.410004</td>\n",
       "      <td>237.750000</td>\n",
       "      <td>234.449997</td>\n",
       "      <td>237.559998</td>\n",
       "      <td>237.559998</td>\n",
       "      <td>2661300</td>\n",
       "      <td>0.013784</td>\n",
       "    </tr>\n",
       "    <tr>\n",
       "      <th>2012-11-07</th>\n",
       "      <td>235.649994</td>\n",
       "      <td>235.660004</td>\n",
       "      <td>229.419998</td>\n",
       "      <td>232.059998</td>\n",
       "      <td>232.059998</td>\n",
       "      <td>3624200</td>\n",
       "      <td>-0.023152</td>\n",
       "    </tr>\n",
       "  </tbody>\n",
       "</table>\n",
       "</div>"
      ],
      "text/plain": [
       "                  Open        High         Low       Close   Adj Close  \\\n",
       "Date                                                                     \n",
       "2012-11-01  234.229996  234.550003  231.339996  232.139999  232.139999   \n",
       "2012-11-02  234.009995  237.399994  232.110001  232.419998  232.419998   \n",
       "2012-11-05  232.039993  234.830002  230.110001  234.330002  234.330002   \n",
       "2012-11-06  235.410004  237.750000  234.449997  237.559998  237.559998   \n",
       "2012-11-07  235.649994  235.660004  229.419998  232.059998  232.059998   \n",
       "\n",
       "             Volume  pct_chng  \n",
       "Date                           \n",
       "2012-11-01  3905100       NaN  \n",
       "2012-11-02  3374700  0.001206  \n",
       "2012-11-05  1846100  0.008218  \n",
       "2012-11-06  2661300  0.013784  \n",
       "2012-11-07  3624200 -0.023152  "
      ]
     },
     "execution_count": 93,
     "metadata": {},
     "output_type": "execute_result"
    }
   ],
   "source": [
    "amzn.head()"
   ]
  },
  {
   "cell_type": "markdown",
   "metadata": {},
   "source": [
    "## 7. Appending data"
   ]
  },
  {
   "cell_type": "code",
   "execution_count": 97,
   "metadata": {},
   "outputs": [],
   "source": [
    "goog_11 = goog.loc['2017-11']\n",
    "amzn_11 = amzn.loc['2017-11']"
   ]
  },
  {
   "cell_type": "code",
   "execution_count": 100,
   "metadata": {},
   "outputs": [
    {
     "data": {
      "text/html": [
       "<div>\n",
       "<style scoped>\n",
       "    .dataframe tbody tr th:only-of-type {\n",
       "        vertical-align: middle;\n",
       "    }\n",
       "\n",
       "    .dataframe tbody tr th {\n",
       "        vertical-align: top;\n",
       "    }\n",
       "\n",
       "    .dataframe thead th {\n",
       "        text-align: right;\n",
       "    }\n",
       "</style>\n",
       "<table border=\"1\" class=\"dataframe\">\n",
       "  <thead>\n",
       "    <tr style=\"text-align: right;\">\n",
       "      <th></th>\n",
       "      <th>Adj Close</th>\n",
       "      <th>Close</th>\n",
       "      <th>High</th>\n",
       "      <th>Low</th>\n",
       "      <th>Open</th>\n",
       "      <th>Volume</th>\n",
       "      <th>pct_chng</th>\n",
       "    </tr>\n",
       "    <tr>\n",
       "      <th>Date</th>\n",
       "      <th></th>\n",
       "      <th></th>\n",
       "      <th></th>\n",
       "      <th></th>\n",
       "      <th></th>\n",
       "      <th></th>\n",
       "      <th></th>\n",
       "    </tr>\n",
       "  </thead>\n",
       "  <tbody>\n",
       "    <tr>\n",
       "      <th>2017-11-13</th>\n",
       "      <td>1129.170044</td>\n",
       "      <td>1129.170044</td>\n",
       "      <td>1139.900024</td>\n",
       "      <td>1122.339966</td>\n",
       "      <td>1123.000000</td>\n",
       "      <td>2918400</td>\n",
       "      <td>0.003395</td>\n",
       "    </tr>\n",
       "    <tr>\n",
       "      <th>2017-11-14</th>\n",
       "      <td>1136.839966</td>\n",
       "      <td>1136.839966</td>\n",
       "      <td>1138.000000</td>\n",
       "      <td>1123.890015</td>\n",
       "      <td>1130.109985</td>\n",
       "      <td>3138400</td>\n",
       "      <td>0.006793</td>\n",
       "    </tr>\n",
       "    <tr>\n",
       "      <th>2017-11-15</th>\n",
       "      <td>1126.689941</td>\n",
       "      <td>1126.689941</td>\n",
       "      <td>1131.750000</td>\n",
       "      <td>1121.630005</td>\n",
       "      <td>1127.010010</td>\n",
       "      <td>3928700</td>\n",
       "      <td>-0.008928</td>\n",
       "    </tr>\n",
       "    <tr>\n",
       "      <th>2017-11-16</th>\n",
       "      <td>1137.290039</td>\n",
       "      <td>1137.290039</td>\n",
       "      <td>1138.160034</td>\n",
       "      <td>1130.050049</td>\n",
       "      <td>1130.160034</td>\n",
       "      <td>2213300</td>\n",
       "      <td>0.009408</td>\n",
       "    </tr>\n",
       "    <tr>\n",
       "      <th>2017-11-17</th>\n",
       "      <td>1129.880005</td>\n",
       "      <td>1129.880005</td>\n",
       "      <td>1138.800049</td>\n",
       "      <td>1125.810059</td>\n",
       "      <td>1138.280029</td>\n",
       "      <td>2345100</td>\n",
       "      <td>-0.006516</td>\n",
       "    </tr>\n",
       "  </tbody>\n",
       "</table>\n",
       "</div>"
      ],
      "text/plain": [
       "              Adj Close        Close         High          Low         Open  \\\n",
       "Date                                                                          \n",
       "2017-11-13  1129.170044  1129.170044  1139.900024  1122.339966  1123.000000   \n",
       "2017-11-14  1136.839966  1136.839966  1138.000000  1123.890015  1130.109985   \n",
       "2017-11-15  1126.689941  1126.689941  1131.750000  1121.630005  1127.010010   \n",
       "2017-11-16  1137.290039  1137.290039  1138.160034  1130.050049  1130.160034   \n",
       "2017-11-17  1129.880005  1129.880005  1138.800049  1125.810059  1138.280029   \n",
       "\n",
       "             Volume  pct_chng  \n",
       "Date                           \n",
       "2017-11-13  2918400  0.003395  \n",
       "2017-11-14  3138400  0.006793  \n",
       "2017-11-15  3928700 -0.008928  \n",
       "2017-11-16  2213300  0.009408  \n",
       "2017-11-17  2345100 -0.006516  "
      ]
     },
     "execution_count": 100,
     "metadata": {},
     "output_type": "execute_result"
    }
   ],
   "source": [
    "goog_11.append(amzn_11).tail()"
   ]
  },
  {
   "cell_type": "markdown",
   "metadata": {},
   "source": [
    "## 8. Merging Columns from Different DataFrames"
   ]
  },
  {
   "cell_type": "code",
   "execution_count": 101,
   "metadata": {},
   "outputs": [
    {
     "data": {
      "text/html": [
       "<div>\n",
       "<style scoped>\n",
       "    .dataframe tbody tr th:only-of-type {\n",
       "        vertical-align: middle;\n",
       "    }\n",
       "\n",
       "    .dataframe tbody tr th {\n",
       "        vertical-align: top;\n",
       "    }\n",
       "\n",
       "    .dataframe thead th {\n",
       "        text-align: right;\n",
       "    }\n",
       "</style>\n",
       "<table border=\"1\" class=\"dataframe\">\n",
       "  <thead>\n",
       "    <tr style=\"text-align: right;\">\n",
       "      <th></th>\n",
       "      <th>AZMN</th>\n",
       "      <th>GOOG</th>\n",
       "    </tr>\n",
       "    <tr>\n",
       "      <th>Date</th>\n",
       "      <th></th>\n",
       "      <th></th>\n",
       "    </tr>\n",
       "  </thead>\n",
       "  <tbody>\n",
       "    <tr>\n",
       "      <th>2012-11-01</th>\n",
       "      <td>232.139999</td>\n",
       "      <td>341.573395</td>\n",
       "    </tr>\n",
       "    <tr>\n",
       "      <th>2012-11-02</th>\n",
       "      <td>232.419998</td>\n",
       "      <td>341.737335</td>\n",
       "    </tr>\n",
       "    <tr>\n",
       "      <th>2012-11-05</th>\n",
       "      <td>234.330002</td>\n",
       "      <td>339.273346</td>\n",
       "    </tr>\n",
       "    <tr>\n",
       "      <th>2012-11-06</th>\n",
       "      <td>237.559998</td>\n",
       "      <td>338.657349</td>\n",
       "    </tr>\n",
       "    <tr>\n",
       "      <th>2012-11-07</th>\n",
       "      <td>232.059998</td>\n",
       "      <td>331.404541</td>\n",
       "    </tr>\n",
       "  </tbody>\n",
       "</table>\n",
       "</div>"
      ],
      "text/plain": [
       "                  AZMN        GOOG\n",
       "Date                              \n",
       "2012-11-01  232.139999  341.573395\n",
       "2012-11-02  232.419998  341.737335\n",
       "2012-11-05  234.330002  339.273346\n",
       "2012-11-06  237.559998  338.657349\n",
       "2012-11-07  232.059998  331.404541"
      ]
     },
     "execution_count": 101,
     "metadata": {},
     "output_type": "execute_result"
    }
   ],
   "source": [
    "close = pd.DataFrame({'AZMN' : amzn.Close, 'GOOG' : goog.Close})\n",
    "close.head()"
   ]
  },
  {
   "cell_type": "code",
   "execution_count": null,
   "metadata": {},
   "outputs": [],
   "source": []
  },
  {
   "cell_type": "code",
   "execution_count": null,
   "metadata": {},
   "outputs": [],
   "source": []
  },
  {
   "cell_type": "markdown",
   "metadata": {},
   "source": [
    "## 9. Grouping  and sorting data "
   ]
  },
  {
   "cell_type": "code",
   "execution_count": 105,
   "metadata": {},
   "outputs": [
    {
     "data": {
      "text/plain": [
       "<matplotlib.axes._subplots.AxesSubplot at 0x1110b4208>"
      ]
     },
     "execution_count": 105,
     "metadata": {},
     "output_type": "execute_result"
    },
    {
     "data": {
      "image/png": "[encoded data removed]",
      "text/plain": [
       "<matplotlib.figure.Figure at 0x1110b26a0>"
      ]
     },
     "metadata": {},
     "output_type": "display_data"
    }
   ],
   "source": [
    "goog['Volume'][goog.index > '2017'].resample('M').mean().plot()"
   ]
  },
  {
   "cell_type": "code",
   "execution_count": null,
   "metadata": {},
   "outputs": [],
   "source": []
  },
  {
   "cell_type": "code",
   "execution_count": null,
   "metadata": {},
   "outputs": [],
   "source": []
  },
  {
   "cell_type": "markdown",
   "metadata": {},
   "source": [
    "## 10. Cumulative Sum and Rolling Calculations"
   ]
  },
  {
   "cell_type": "code",
   "execution_count": 106,
   "metadata": {
    "collapsed": true
   },
   "outputs": [],
   "source": [
    "amzn_change = np.log(amzn.Close /amzn.Close.shift(1))\n",
    "goog_change = np.log(goog.Close / goog.Close.shift(1))"
   ]
  },
  {
   "cell_type": "code",
   "execution_count": 108,
   "metadata": {},
   "outputs": [
    {
     "data": {
      "text/plain": [
       "<matplotlib.axes._subplots.AxesSubplot at 0x111103d30>"
      ]
     },
     "execution_count": 108,
     "metadata": {},
     "output_type": "execute_result"
    },
    {
     "data": {
      "image/png": "[encoded data removed]",
      "text/plain": [
       "<matplotlib.figure.Figure at 0x111490f60>"
      ]
     },
     "metadata": {},
     "output_type": "display_data"
    }
   ],
   "source": [
    "amzn_change.cumsum().plot()\n",
    "goog_change.cumsum().plot()"
   ]
  },
  {
   "cell_type": "markdown",
   "metadata": {},
   "source": [
    "## 11. Create new dataFrame and save to csv"
   ]
  },
  {
   "cell_type": "code",
   "execution_count": 111,
   "metadata": {},
   "outputs": [],
   "source": [
    "new = pd.DataFrame({'AMZN': amzn_change[1:], 'GOOG' : goog_change[1:]})\n",
    "new.to_csv('stocks.csv')"
   ]
  },
  {
   "cell_type": "code",
   "execution_count": 112,
   "metadata": {},
   "outputs": [
    {
     "data": {
      "text/html": [
       "<div>\n",
       "<style scoped>\n",
       "    .dataframe tbody tr th:only-of-type {\n",
       "        vertical-align: middle;\n",
       "    }\n",
       "\n",
       "    .dataframe tbody tr th {\n",
       "        vertical-align: top;\n",
       "    }\n",
       "\n",
       "    .dataframe thead th {\n",
       "        text-align: right;\n",
       "    }\n",
       "</style>\n",
       "<table border=\"1\" class=\"dataframe\">\n",
       "  <thead>\n",
       "    <tr style=\"text-align: right;\">\n",
       "      <th></th>\n",
       "      <th>Date</th>\n",
       "      <th>AMZN</th>\n",
       "      <th>GOOG</th>\n",
       "    </tr>\n",
       "  </thead>\n",
       "  <tbody>\n",
       "    <tr>\n",
       "      <th>0</th>\n",
       "      <td>2012-11-02</td>\n",
       "      <td>0.001205</td>\n",
       "      <td>0.000480</td>\n",
       "    </tr>\n",
       "    <tr>\n",
       "      <th>1</th>\n",
       "      <td>2012-11-05</td>\n",
       "      <td>0.008184</td>\n",
       "      <td>-0.007236</td>\n",
       "    </tr>\n",
       "    <tr>\n",
       "      <th>2</th>\n",
       "      <td>2012-11-06</td>\n",
       "      <td>0.013690</td>\n",
       "      <td>-0.001817</td>\n",
       "    </tr>\n",
       "    <tr>\n",
       "      <th>3</th>\n",
       "      <td>2012-11-07</td>\n",
       "      <td>-0.023424</td>\n",
       "      <td>-0.021649</td>\n",
       "    </tr>\n",
       "    <tr>\n",
       "      <th>4</th>\n",
       "      <td>2012-11-08</td>\n",
       "      <td>-0.020505</td>\n",
       "      <td>-0.022481</td>\n",
       "    </tr>\n",
       "  </tbody>\n",
       "</table>\n",
       "</div>"
      ],
      "text/plain": [
       "         Date      AMZN      GOOG\n",
       "0  2012-11-02  0.001205  0.000480\n",
       "1  2012-11-05  0.008184 -0.007236\n",
       "2  2012-11-06  0.013690 -0.001817\n",
       "3  2012-11-07 -0.023424 -0.021649\n",
       "4  2012-11-08 -0.020505 -0.022481"
      ]
     },
     "execution_count": 112,
     "metadata": {},
     "output_type": "execute_result"
    }
   ],
   "source": [
    "pd.read_csv('stocks.csv').head()"
   ]
  },
  {
   "cell_type": "code",
   "execution_count": null,
   "metadata": {
    "collapsed": true
   },
   "outputs": [],
   "source": []
  },
  {
   "cell_type": "markdown",
   "metadata": {},
   "source": [
    "## 12. Change the index and remove columns\n",
    " "
   ]
  },
  {
   "cell_type": "code",
   "execution_count": 113,
   "metadata": {},
   "outputs": [
    {
     "data": {
      "text/html": [
       "<div>\n",
       "<style scoped>\n",
       "    .dataframe tbody tr th:only-of-type {\n",
       "        vertical-align: middle;\n",
       "    }\n",
       "\n",
       "    .dataframe tbody tr th {\n",
       "        vertical-align: top;\n",
       "    }\n",
       "\n",
       "    .dataframe thead th {\n",
       "        text-align: right;\n",
       "    }\n",
       "</style>\n",
       "<table border=\"1\" class=\"dataframe\">\n",
       "  <thead>\n",
       "    <tr style=\"text-align: right;\">\n",
       "      <th></th>\n",
       "      <th>Date</th>\n",
       "      <th>AMZN</th>\n",
       "      <th>GOOG</th>\n",
       "    </tr>\n",
       "    <tr>\n",
       "      <th>Date</th>\n",
       "      <th></th>\n",
       "      <th></th>\n",
       "      <th></th>\n",
       "    </tr>\n",
       "  </thead>\n",
       "  <tbody>\n",
       "    <tr>\n",
       "      <th>2012-11-02</th>\n",
       "      <td>2012-11-02</td>\n",
       "      <td>0.001205</td>\n",
       "      <td>0.000480</td>\n",
       "    </tr>\n",
       "    <tr>\n",
       "      <th>2012-11-05</th>\n",
       "      <td>2012-11-05</td>\n",
       "      <td>0.008184</td>\n",
       "      <td>-0.007236</td>\n",
       "    </tr>\n",
       "    <tr>\n",
       "      <th>2012-11-06</th>\n",
       "      <td>2012-11-06</td>\n",
       "      <td>0.013690</td>\n",
       "      <td>-0.001817</td>\n",
       "    </tr>\n",
       "    <tr>\n",
       "      <th>2012-11-07</th>\n",
       "      <td>2012-11-07</td>\n",
       "      <td>-0.023424</td>\n",
       "      <td>-0.021649</td>\n",
       "    </tr>\n",
       "    <tr>\n",
       "      <th>2012-11-08</th>\n",
       "      <td>2012-11-08</td>\n",
       "      <td>-0.020505</td>\n",
       "      <td>-0.022481</td>\n",
       "    </tr>\n",
       "  </tbody>\n",
       "</table>\n",
       "</div>"
      ],
      "text/plain": [
       "                  Date      AMZN      GOOG\n",
       "Date                                      \n",
       "2012-11-02  2012-11-02  0.001205  0.000480\n",
       "2012-11-05  2012-11-05  0.008184 -0.007236\n",
       "2012-11-06  2012-11-06  0.013690 -0.001817\n",
       "2012-11-07  2012-11-07 -0.023424 -0.021649\n",
       "2012-11-08  2012-11-08 -0.020505 -0.022481"
      ]
     },
     "execution_count": 113,
     "metadata": {},
     "output_type": "execute_result"
    }
   ],
   "source": [
    "new_stocks = pd.read_csv('stocks.csv')\n",
    "new_stocks.index = new_stocks.Date\n",
    "new_stocks.head()"
   ]
  },
  {
   "cell_type": "code",
   "execution_count": 114,
   "metadata": {},
   "outputs": [
    {
     "data": {
      "text/html": [
       "<div>\n",
       "<style scoped>\n",
       "    .dataframe tbody tr th:only-of-type {\n",
       "        vertical-align: middle;\n",
       "    }\n",
       "\n",
       "    .dataframe tbody tr th {\n",
       "        vertical-align: top;\n",
       "    }\n",
       "\n",
       "    .dataframe thead th {\n",
       "        text-align: right;\n",
       "    }\n",
       "</style>\n",
       "<table border=\"1\" class=\"dataframe\">\n",
       "  <thead>\n",
       "    <tr style=\"text-align: right;\">\n",
       "      <th></th>\n",
       "      <th>AMZN</th>\n",
       "      <th>GOOG</th>\n",
       "    </tr>\n",
       "    <tr>\n",
       "      <th>Date</th>\n",
       "      <th></th>\n",
       "      <th></th>\n",
       "    </tr>\n",
       "  </thead>\n",
       "  <tbody>\n",
       "    <tr>\n",
       "      <th>2012-11-02</th>\n",
       "      <td>0.001205</td>\n",
       "      <td>0.000480</td>\n",
       "    </tr>\n",
       "    <tr>\n",
       "      <th>2012-11-05</th>\n",
       "      <td>0.008184</td>\n",
       "      <td>-0.007236</td>\n",
       "    </tr>\n",
       "    <tr>\n",
       "      <th>2012-11-06</th>\n",
       "      <td>0.013690</td>\n",
       "      <td>-0.001817</td>\n",
       "    </tr>\n",
       "    <tr>\n",
       "      <th>2012-11-07</th>\n",
       "      <td>-0.023424</td>\n",
       "      <td>-0.021649</td>\n",
       "    </tr>\n",
       "    <tr>\n",
       "      <th>2012-11-08</th>\n",
       "      <td>-0.020505</td>\n",
       "      <td>-0.022481</td>\n",
       "    </tr>\n",
       "  </tbody>\n",
       "</table>\n",
       "</div>"
      ],
      "text/plain": [
       "                AMZN      GOOG\n",
       "Date                          \n",
       "2012-11-02  0.001205  0.000480\n",
       "2012-11-05  0.008184 -0.007236\n",
       "2012-11-06  0.013690 -0.001817\n",
       "2012-11-07 -0.023424 -0.021649\n",
       "2012-11-08 -0.020505 -0.022481"
      ]
     },
     "execution_count": 114,
     "metadata": {},
     "output_type": "execute_result"
    }
   ],
   "source": [
    "new_stocks.drop(['Date'], axis=1, inplace=True)\n",
    "new_stocks.head()\n"
   ]
  },
  {
   "cell_type": "markdown",
   "metadata": {},
   "source": [
    "## 13. Rename Columns"
   ]
  },
  {
   "cell_type": "code",
   "execution_count": 120,
   "metadata": {},
   "outputs": [
    {
     "data": {
      "text/html": [
       "<div>\n",
       "<style scoped>\n",
       "    .dataframe tbody tr th:only-of-type {\n",
       "        vertical-align: middle;\n",
       "    }\n",
       "\n",
       "    .dataframe tbody tr th {\n",
       "        vertical-align: top;\n",
       "    }\n",
       "\n",
       "    .dataframe thead th {\n",
       "        text-align: right;\n",
       "    }\n",
       "</style>\n",
       "<table border=\"1\" class=\"dataframe\">\n",
       "  <thead>\n",
       "    <tr style=\"text-align: right;\">\n",
       "      <th></th>\n",
       "      <th>AMZN_chng</th>\n",
       "      <th>GOOG</th>\n",
       "    </tr>\n",
       "    <tr>\n",
       "      <th>Date</th>\n",
       "      <th></th>\n",
       "      <th></th>\n",
       "    </tr>\n",
       "  </thead>\n",
       "  <tbody>\n",
       "    <tr>\n",
       "      <th>2012-11-02</th>\n",
       "      <td>0.001205</td>\n",
       "      <td>0.000480</td>\n",
       "    </tr>\n",
       "    <tr>\n",
       "      <th>2012-11-05</th>\n",
       "      <td>0.008184</td>\n",
       "      <td>-0.007236</td>\n",
       "    </tr>\n",
       "    <tr>\n",
       "      <th>2012-11-06</th>\n",
       "      <td>0.013690</td>\n",
       "      <td>-0.001817</td>\n",
       "    </tr>\n",
       "    <tr>\n",
       "      <th>2012-11-07</th>\n",
       "      <td>-0.023424</td>\n",
       "      <td>-0.021649</td>\n",
       "    </tr>\n",
       "    <tr>\n",
       "      <th>2012-11-08</th>\n",
       "      <td>-0.020505</td>\n",
       "      <td>-0.022481</td>\n",
       "    </tr>\n",
       "  </tbody>\n",
       "</table>\n",
       "</div>"
      ],
      "text/plain": [
       "            AMZN_chng      GOOG\n",
       "Date                           \n",
       "2012-11-02   0.001205  0.000480\n",
       "2012-11-05   0.008184 -0.007236\n",
       "2012-11-06   0.013690 -0.001817\n",
       "2012-11-07  -0.023424 -0.021649\n",
       "2012-11-08  -0.020505 -0.022481"
      ]
     },
     "execution_count": 120,
     "metadata": {},
     "output_type": "execute_result"
    }
   ],
   "source": [
    "new_stocks.rename(columns={'AMZN': 'AMZN_chng'}, inplace=True)\n",
    "new_stocks.head()"
   ]
  },
  {
   "cell_type": "code",
   "execution_count": null,
   "metadata": {
    "collapsed": true
   },
   "outputs": [],
   "source": []
  },
  {
   "cell_type": "code",
   "execution_count": null,
   "metadata": {
    "collapsed": true
   },
   "outputs": [],
   "source": []
  }
 ],
 "metadata": {
  "kernelspec": {
   "display_name": "Python 3",
   "language": "python",
   "name": "python3"
  },
  "language_info": {
   "codemirror_mode": {
    "name": "ipython",
    "version": 3
   },
   "file_extension": ".py",
   "mimetype": "text/x-python",
   "name": "python",
   "nbconvert_exporter": "python",
   "pygments_lexer": "ipython3",
   "version": "3.6.5"
  }
 },
 "nbformat": 4,
 "nbformat_minor": 2
}
